{
 "cells": [
  {
   "cell_type": "markdown",
   "metadata": {
    "colab_type": "text",
    "id": "kR-4eNdK6lYS"
   },
   "source": [
    "Deep Learning\n",
    "=============\n",
    "\n",
    "Assignment 3\n",
    "------------\n",
    "\n",
    "Previously in `2_fullyconnected.ipynb`, you trained a logistic regression and a neural network model.\n",
    "\n",
    "The goal of this assignment is to explore regularization techniques."
   ]
  },
  {
   "cell_type": "code",
   "execution_count": 2,
   "metadata": {
    "cellView": "both",
    "colab": {
     "autoexec": {
      "startup": false,
      "wait_interval": 0
     }
    },
    "colab_type": "code",
    "collapsed": false,
    "id": "JLpLa8Jt7Vu4"
   },
   "outputs": [],
   "source": [
    "# These are all the modules we'll be using later. Make sure you can import them\n",
    "# before proceeding further.\n",
    "from __future__ import print_function\n",
    "import numpy as np\n",
    "import tensorflow as tf\n",
    "from six.moves import cPickle as pickle\n",
    "import matplotlib.pyplot as plt\n",
    "\n",
    "# Config the matlotlib backend as plotting inline in IPython\n",
    "%matplotlib inline"
   ]
  },
  {
   "cell_type": "markdown",
   "metadata": {
    "colab_type": "text",
    "id": "1HrCK6e17WzV"
   },
   "source": [
    "First reload the data we generated in _notmist.ipynb_."
   ]
  },
  {
   "cell_type": "code",
   "execution_count": 3,
   "metadata": {
    "cellView": "both",
    "colab": {
     "autoexec": {
      "startup": false,
      "wait_interval": 0
     },
     "output_extras": [
      {
       "item_id": 1
      }
     ]
    },
    "colab_type": "code",
    "collapsed": false,
    "executionInfo": {
     "elapsed": 11777,
     "status": "ok",
     "timestamp": 1449849322348,
     "user": {
      "color": "",
      "displayName": "",
      "isAnonymous": false,
      "isMe": true,
      "permissionId": "",
      "photoUrl": "",
      "sessionId": "0",
      "userId": ""
     },
     "user_tz": 480
    },
    "id": "y3-cj1bpmuxc",
    "outputId": "e03576f1-ebbe-4838-c388-f1777bcc9873"
   },
   "outputs": [
    {
     "name": "stdout",
     "output_type": "stream",
     "text": [
      "Training set (200000, 28, 28) (200000,)\n",
      "Validation set (10000, 28, 28) (10000,)\n",
      "Test set (10000, 28, 28) (10000,)\n"
     ]
    }
   ],
   "source": [
    "pickle_file = 'notMNIST.pickle'\n",
    "\n",
    "with open(pickle_file, 'rb') as f:\n",
    "  save = pickle.load(f)\n",
    "  train_dataset = save['train_dataset']\n",
    "  train_labels = save['train_labels']\n",
    "  valid_dataset = save['valid_dataset']\n",
    "  valid_labels = save['valid_labels']\n",
    "  test_dataset = save['test_dataset']\n",
    "  test_labels = save['test_labels']\n",
    "  del save  # hint to help gc free up memory\n",
    "  print('Training set', train_dataset.shape, train_labels.shape)\n",
    "  print('Validation set', valid_dataset.shape, valid_labels.shape)\n",
    "  print('Test set', test_dataset.shape, test_labels.shape)"
   ]
  },
  {
   "cell_type": "markdown",
   "metadata": {
    "colab_type": "text",
    "id": "L7aHrm6nGDMB"
   },
   "source": [
    "Reformat into a shape that's more adapted to the models we're going to train:\n",
    "- data as a flat matrix,\n",
    "- labels as float 1-hot encodings."
   ]
  },
  {
   "cell_type": "code",
   "execution_count": 4,
   "metadata": {
    "cellView": "both",
    "colab": {
     "autoexec": {
      "startup": false,
      "wait_interval": 0
     },
     "output_extras": [
      {
       "item_id": 1
      }
     ]
    },
    "colab_type": "code",
    "collapsed": false,
    "executionInfo": {
     "elapsed": 11728,
     "status": "ok",
     "timestamp": 1449849322356,
     "user": {
      "color": "",
      "displayName": "",
      "isAnonymous": false,
      "isMe": true,
      "permissionId": "",
      "photoUrl": "",
      "sessionId": "0",
      "userId": ""
     },
     "user_tz": 480
    },
    "id": "IRSyYiIIGIzS",
    "outputId": "3f8996ee-3574-4f44-c953-5c8a04636582"
   },
   "outputs": [
    {
     "name": "stdout",
     "output_type": "stream",
     "text": [
      "Training set (200000, 784) (200000, 10)\n",
      "Validation set (10000, 784) (10000, 10)\n",
      "Test set (10000, 784) (10000, 10)\n"
     ]
    }
   ],
   "source": [
    "image_size = 28\n",
    "num_labels = 10\n",
    "\n",
    "def reformat(dataset, labels):\n",
    "  dataset = dataset.reshape((-1, image_size * image_size)).astype(np.float32)\n",
    "  # Map 2 to [0.0, 1.0, 0.0 ...], 3 to [0.0, 0.0, 1.0 ...]\n",
    "  labels = (np.arange(num_labels) == labels[:,None]).astype(np.float32)\n",
    "  return dataset, labels\n",
    "train_dataset, train_labels = reformat(train_dataset, train_labels)\n",
    "valid_dataset, valid_labels = reformat(valid_dataset, valid_labels)\n",
    "test_dataset, test_labels = reformat(test_dataset, test_labels)\n",
    "print('Training set', train_dataset.shape, train_labels.shape)\n",
    "print('Validation set', valid_dataset.shape, valid_labels.shape)\n",
    "print('Test set', test_dataset.shape, test_labels.shape)"
   ]
  },
  {
   "cell_type": "markdown",
   "metadata": {},
   "source": [
    "### Helper methods"
   ]
  },
  {
   "cell_type": "code",
   "execution_count": 41,
   "metadata": {
    "cellView": "both",
    "colab": {
     "autoexec": {
      "startup": false,
      "wait_interval": 0
     }
    },
    "colab_type": "code",
    "collapsed": false,
    "id": "RajPLaL_ZW6w"
   },
   "outputs": [],
   "source": [
    "def plot_loss(x, y):\n",
    "  plt.figure(figsize=(16, 4))\n",
    "  plt.plot(x, y)\n",
    "  plt.xlabel(\"Step\")\n",
    "  plt.ylabel(\"Loss\")\n",
    "\n",
    "def accuracy(predictions, labels):\n",
    "  return (100.0 * np.sum(np.argmax(predictions, 1) == np.argmax(labels, 1))\n",
    "          / predictions.shape[0])\n",
    "\n",
    "def weight_variable(shape):\n",
    "  initial = tf.truncated_normal(shape, stddev=0.1)\n",
    "  return tf.Variable(initial)\n",
    "\n",
    "def bias_variable(shape):\n",
    "  initial = tf.constant(0.1, shape=shape)\n",
    "  return tf.Variable(initial)\n",
    "\n",
    "def create_batch(step):\n",
    "  # Pick an offset within the training data, which has been randomized.\n",
    "  # Note: we could use better randomization across epochs.\n",
    "  offset = (step * batch_size) % (train_labels.shape[0] - batch_size)\n",
    "\n",
    "  # Generate a minibatch.\n",
    "  batch_data = train_dataset[offset:(offset + batch_size), :]\n",
    "  batch_labels = train_labels[offset:(offset + batch_size), :]\n",
    "  return [batch_data, batch_labels]"
   ]
  },
  {
   "cell_type": "markdown",
   "metadata": {
    "colab_type": "text",
    "id": "sgLbUAQ1CW-1"
   },
   "source": [
    "---\n",
    "Problem 1\n",
    "---------\n",
    "\n",
    "Introduce and tune L2 regularization for both logistic and neural network models. Remember that L2 amounts to adding a penalty on the norm of the weights to the loss. In TensorFlow, you can compute the L2 loss for a tensor `t` using `nn.l2_loss(t)`. The right amount of regularization should improve your validation / test accuracy.\n",
    "\n",
    "---"
   ]
  },
  {
   "cell_type": "markdown",
   "metadata": {},
   "source": [
    "### Logistic model + L2 Regularization\n",
    "\n",
    "#### Stotachistic Gradient Descent"
   ]
  },
  {
   "cell_type": "code",
   "execution_count": 6,
   "metadata": {
    "collapsed": false
   },
   "outputs": [],
   "source": [
    "batch_size = 128\n",
    "\n",
    "graph = tf.Graph()\n",
    "with graph.as_default():\n",
    "\n",
    "  # Input data. For the training data, we use a placeholder that will be fed\n",
    "  # at run time with a training minibatch.\n",
    "  tf_train_dataset = tf.placeholder(tf.float32,\n",
    "                                    shape=(batch_size, image_size * image_size))\n",
    "  tf_train_labels = tf.placeholder(tf.float32, shape=(batch_size, num_labels))\n",
    "  tf_valid_dataset = tf.constant(valid_dataset)\n",
    "  tf_test_dataset = tf.constant(test_dataset)\n",
    "  \n",
    "  # Variables.\n",
    "  weights = tf.Variable(\n",
    "    tf.truncated_normal([image_size * image_size, num_labels]))\n",
    "  biases = tf.Variable(tf.zeros([num_labels]))\n",
    "  \n",
    "  # Training computation.\n",
    "  logits = tf.matmul(tf_train_dataset, weights) + biases\n",
    "  loss = tf.reduce_mean(\n",
    "    tf.nn.softmax_cross_entropy_with_logits(logits, tf_train_labels))\n",
    "  \n",
    "  # Apply regularization\n",
    "  loss += 5e-4 * tf.nn.l2_loss(weights)\n",
    "  \n",
    "  # Optimizer.\n",
    "  optimizer = tf.train.GradientDescentOptimizer(0.5).minimize(loss)\n",
    "  \n",
    "  # Predictions for the training, validation, and test data.\n",
    "  train_prediction = tf.nn.softmax(logits)\n",
    "  valid_prediction = tf.nn.softmax(tf.matmul(tf_valid_dataset, weights) + biases)\n",
    "  test_prediction = tf.nn.softmax(tf.matmul(tf_test_dataset, weights) + biases)"
   ]
  },
  {
   "cell_type": "code",
   "execution_count": 7,
   "metadata": {
    "collapsed": false
   },
   "outputs": [],
   "source": [
    "def do_tf_train(batch_size, num_steps):\n",
    "  xx = []\n",
    "  yy = []\n",
    "  with tf.Session(graph=graph) as session:\n",
    "    tf.initialize_all_variables().run()\n",
    "    print(\"Initialized\")\n",
    "    for step in range(num_steps):\n",
    "      # Pick an offset within the training data, which has been randomized.\n",
    "      # Note: we could use better randomization across epochs.\n",
    "      offset = (step * batch_size) % (train_labels.shape[0] - batch_size)\n",
    "\n",
    "      # Generate a minibatch.\n",
    "      batch_data = train_dataset[offset:(offset + batch_size), :]\n",
    "      batch_labels = train_labels[offset:(offset + batch_size), :]\n",
    "\n",
    "      # Prepare a dictionary telling the session where to feed the minibatch.\n",
    "      # The key of the dictionary is the placeholder node of the graph to be fed,\n",
    "      # and the value is the numpy array to feed to it.\n",
    "      feed_dict = {tf_train_dataset : batch_data, tf_train_labels : batch_labels}\n",
    "\n",
    "      _, l, predictions = session.run(\n",
    "        [optimizer, loss, train_prediction], feed_dict=feed_dict)\n",
    "\n",
    "      if (step % 20 == 0):\n",
    "          xx.append(step)\n",
    "          yy.append(l)\n",
    "\n",
    "      if (step % 500 == 0):\n",
    "        print(\"Minibatch loss at step %d: %f\" % (step, l))\n",
    "        print(\"Minibatch accuracy: %.1f%%\" % accuracy(predictions, batch_labels))\n",
    "        print(\"Validation accuracy: %.1f%%\" % accuracy(valid_prediction.eval(), valid_labels))\n",
    "    print(\"Test accuracy: %.1f%%\" % accuracy(test_prediction.eval(), test_labels))\n",
    "    plot_loss(xx, yy)"
   ]
  },
  {
   "cell_type": "code",
   "execution_count": 8,
   "metadata": {
    "collapsed": false
   },
   "outputs": [
    {
     "name": "stdout",
     "output_type": "stream",
     "text": [
      "Initialized\n",
      "Minibatch loss at step 0: 15.693619\n",
      "Minibatch accuracy: 13.3%\n",
      "Validation accuracy: 15.9%\n",
      "Minibatch loss at step 500: 2.045900\n",
      "Minibatch accuracy: 77.3%\n",
      "Validation accuracy: 75.9%\n",
      "Minibatch loss at step 1000: 1.701473\n",
      "Minibatch accuracy: 79.7%\n",
      "Validation accuracy: 77.4%\n",
      "Minibatch loss at step 1500: 1.111607\n",
      "Minibatch accuracy: 78.1%\n",
      "Validation accuracy: 78.7%\n",
      "Minibatch loss at step 2000: 1.029701\n",
      "Minibatch accuracy: 82.0%\n",
      "Validation accuracy: 79.3%\n",
      "Minibatch loss at step 2500: 0.912838\n",
      "Minibatch accuracy: 81.2%\n",
      "Validation accuracy: 80.4%\n",
      "Minibatch loss at step 3000: 0.954550\n",
      "Minibatch accuracy: 81.2%\n",
      "Validation accuracy: 80.4%\n",
      "Test accuracy: 88.0%\n"
     ]
    },
    {
     "data": {
      "image/png": "[encoded data removed]",
      "text/plain": [
       "<matplotlib.figure.Figure at 0x1446a5050>"
      ]
     },
     "metadata": {},
     "output_type": "display_data"
    }
   ],
   "source": [
    "do_tf_train(128, 3001)"
   ]
  },
  {
   "cell_type": "markdown",
   "metadata": {},
   "source": [
    "### Neural Network + L2 Regularization"
   ]
  },
  {
   "cell_type": "code",
   "execution_count": 9,
   "metadata": {
    "collapsed": false
   },
   "outputs": [],
   "source": [
    "batch_size = 128\n",
    "hidden_units = 1024 # Size of the hidden layer\n",
    "\n",
    "\n",
    "graph = tf.Graph()\n",
    "with graph.as_default() as g:\n",
    "  # Input data. For the training data, we use a placeholder that will be fed\n",
    "  # at run time with a training minibatch.\n",
    "  tf_train_dataset = tf.placeholder(tf.float32,\n",
    "                                    shape=(batch_size, image_size * image_size))\n",
    "  tf_train_labels = tf.placeholder(tf.float32, shape=(batch_size, num_labels))\n",
    "  tf_valid_dataset = tf.constant(valid_dataset)\n",
    "  tf_test_dataset = tf.constant(test_dataset)\n",
    "\n",
    "  # Hidden Layer\n",
    "  with g.name_scope(\"hidden\"):\n",
    "    weights1 = tf.Variable(\n",
    "        tf.truncated_normal([image_size * image_size, hidden_units]),\n",
    "        name='weights1')\n",
    "    biases1 = tf.Variable(tf.zeros([hidden_units]), name='biases')\n",
    "  \n",
    "  # Linear\n",
    "  with g.name_scope(\"softmax_linear\"):\n",
    "    weights2 = tf.Variable(\n",
    "        tf.truncated_normal([hidden_units, num_labels]),\n",
    "        name='weights2')\n",
    "    biases2 = tf.Variable(tf.zeros([num_labels]), name='biases')\n",
    "  \n",
    "  def forward_prop(inp):\n",
    "    return tf.matmul(\n",
    "        tf.nn.relu(tf.matmul(inp, weights1) + biases1), weights2) + biases2  \n",
    "\n",
    "  logits = forward_prop(tf_train_dataset)\n",
    "\n",
    "  loss = tf.reduce_mean(\n",
    "    tf.nn.softmax_cross_entropy_with_logits(logits, tf_train_labels))\n",
    "\n",
    "  # Apply regularization\n",
    "  loss += 5e-4 * (tf.nn.l2_loss(weights1) + tf.nn.l2_loss(weights2))\n",
    "  \n",
    "  # Optimizer.\n",
    "  optimizer = tf.train.GradientDescentOptimizer(0.5).minimize(loss)\n",
    "\n",
    "\n",
    "  # Predictions for the training, validation, and test data.\n",
    "  train_prediction = tf.nn.softmax(logits)\n",
    "  valid_prediction = tf.nn.softmax(forward_prop(tf_valid_dataset))\n",
    "  test_prediction = tf.nn.softmax(forward_prop(tf_test_dataset))"
   ]
  },
  {
   "cell_type": "code",
   "execution_count": 10,
   "metadata": {
    "collapsed": false
   },
   "outputs": [
    {
     "name": "stdout",
     "output_type": "stream",
     "text": [
      "Initialized\n",
      "Minibatch loss at step 0: 476.904602\n",
      "Minibatch accuracy: 7.0%\n",
      "Validation accuracy: 27.4%\n",
      "Minibatch loss at step 500: 141.024780\n",
      "Minibatch accuracy: 73.4%\n",
      "Validation accuracy: 79.7%\n",
      "Minibatch loss at step 1000: 96.381271\n",
      "Minibatch accuracy: 82.8%\n",
      "Validation accuracy: 82.0%\n",
      "Minibatch loss at step 1500: 74.096481\n",
      "Minibatch accuracy: 84.4%\n",
      "Validation accuracy: 81.9%\n",
      "Minibatch loss at step 2000: 56.622368\n",
      "Minibatch accuracy: 86.7%\n",
      "Validation accuracy: 82.2%\n",
      "Minibatch loss at step 2500: 43.663784\n",
      "Minibatch accuracy: 87.5%\n",
      "Validation accuracy: 83.2%\n",
      "Minibatch loss at step 3000: 34.005566\n",
      "Minibatch accuracy: 85.2%\n",
      "Validation accuracy: 85.0%\n",
      "Test accuracy: 91.2%\n"
     ]
    },
    {
     "data": {
      "image/png": "[encoded data removed]",
      "text/plain": [
       "<matplotlib.figure.Figure at 0x117c01850>"
      ]
     },
     "metadata": {},
     "output_type": "display_data"
    }
   ],
   "source": [
    "do_tf_train(128, 3001)"
   ]
  },
  {
   "cell_type": "markdown",
   "metadata": {
    "colab_type": "text",
    "id": "na8xX2yHZzNF"
   },
   "source": [
    "---\n",
    "Problem 2\n",
    "---------\n",
    "Let's demonstrate an extreme case of overfitting. Restrict your training data to just a few batches. What happens?\n",
    "\n",
    "---"
   ]
  },
  {
   "cell_type": "code",
   "execution_count": 24,
   "metadata": {
    "collapsed": false
   },
   "outputs": [],
   "source": [
    "batch_size = 20\n",
    "hidden_units = 1024 # Size of the hidden layer\n",
    "\n",
    "graph = tf.Graph()\n",
    "with graph.as_default() as g:\n",
    "  # Input data. For the training data, we use a placeholder that will be fed\n",
    "  # at run time with a training minibatch.\n",
    "  tf_train_dataset = tf.placeholder(tf.float32,\n",
    "                                    shape=(batch_size, image_size * image_size))\n",
    "  tf_train_labels = tf.placeholder(tf.float32, shape=(batch_size, num_labels))\n",
    "  tf_valid_dataset = tf.constant(valid_dataset)\n",
    "  tf_test_dataset = tf.constant(test_dataset)\n",
    "\n",
    "  # Hidden Layer\n",
    "  with g.name_scope(\"hidden\"):\n",
    "    weights1 = tf.Variable(\n",
    "        tf.truncated_normal([image_size * image_size, hidden_units]),\n",
    "        name='weights1')\n",
    "    biases1 = tf.Variable(tf.zeros([hidden_units]), name='biases')\n",
    "  \n",
    "  # Linear\n",
    "  with g.name_scope(\"softmax_linear\"):\n",
    "    weights2 = tf.Variable(\n",
    "        tf.truncated_normal([hidden_units, num_labels]),\n",
    "        name='weights2')\n",
    "    biases2 = tf.Variable(tf.zeros([num_labels]), name='biases')\n",
    "  \n",
    "  def forward_prop(inp):\n",
    "    return tf.matmul(\n",
    "        tf.nn.relu(tf.matmul(inp, weights1) + biases1), weights2) + biases2  \n",
    "\n",
    "  logits = forward_prop(tf_train_dataset)\n",
    "\n",
    "  loss = tf.reduce_mean(\n",
    "    tf.nn.softmax_cross_entropy_with_logits(logits, tf_train_labels))\n",
    "\n",
    "  # Apply regularization\n",
    "  loss += 5e-4 * (tf.nn.l2_loss(weights1) + tf.nn.l2_loss(weights2))\n",
    "  \n",
    "  # Optimizer.\n",
    "  optimizer = tf.train.GradientDescentOptimizer(0.5).minimize(loss)\n",
    "\n",
    "\n",
    "  # Predictions for the training, validation, and test data.\n",
    "  train_prediction = tf.nn.softmax(logits)\n",
    "  valid_prediction = tf.nn.softmax(forward_prop(tf_valid_dataset))\n",
    "  test_prediction = tf.nn.softmax(forward_prop(tf_test_dataset))"
   ]
  },
  {
   "cell_type": "code",
   "execution_count": 25,
   "metadata": {
    "collapsed": false
   },
   "outputs": [
    {
     "name": "stdout",
     "output_type": "stream",
     "text": [
      "Initialized\n",
      "Minibatch loss at step 0: 548.028687\n",
      "Minibatch accuracy: 0.0%\n",
      "Validation accuracy: 15.4%\n",
      "Minibatch loss at step 500: 245.861389\n",
      "Minibatch accuracy: 65.0%\n",
      "Validation accuracy: 65.3%\n",
      "Minibatch loss at step 1000: 233.172684\n",
      "Minibatch accuracy: 60.0%\n",
      "Validation accuracy: 61.0%\n",
      "Minibatch loss at step 1500: 82.377968\n",
      "Minibatch accuracy: 65.0%\n",
      "Validation accuracy: 67.2%\n",
      "Minibatch loss at step 2000: 62.648827\n",
      "Minibatch accuracy: 65.0%\n",
      "Validation accuracy: 73.1%\n",
      "Minibatch loss at step 2500: 47.771305\n",
      "Minibatch accuracy: 85.0%\n",
      "Validation accuracy: 76.9%\n",
      "Minibatch loss at step 3000: 37.344307\n",
      "Minibatch accuracy: 75.0%\n",
      "Validation accuracy: 78.2%\n",
      "Test accuracy: 85.1%\n"
     ]
    },
    {
     "data": {
      "image/png": "[encoded data removed]",
      "text/plain": [
       "<matplotlib.figure.Figure at 0x141c440d0>"
      ]
     },
     "metadata": {},
     "output_type": "display_data"
    }
   ],
   "source": [
    "do_tf_train(batch_size, 3001)"
   ]
  },
  {
   "cell_type": "markdown",
   "metadata": {},
   "source": [
    "---\n",
    "Problem 3\n",
    "---------\n",
    "Introduce Dropout on the hidden layer of the neural network. Remember: Dropout should only be introduced during training, not evaluation, otherwise your evaluation results would be stochastic as well. TensorFlow provides `nn.dropout()` for that, but you have to make sure it's only inserted during training.\n",
    "\n",
    "---"
   ]
  },
  {
   "cell_type": "markdown",
   "metadata": {},
   "source": [
    "#### What does dropout function do?\n",
    "\n",
    "```\n",
    "In [1]: import tensorflow as tf\n",
    "In [2]: sess = tf.InteractiveSession()\n",
    "\n",
    "In [8]:  a = tf.constant([1.0, 3.0, 2.0, 4.0, 8.0, 1.0, 2.0])\n",
    "\n",
    "In [9]: a.eval()\n",
    "Out[9]: array([ 1.,  3.,  2.,  4.,  8.,  1.,  2.], dtype=float32)\n",
    "\n",
    "In [10]: b = tf.nn.dropout(a, 0.5)\n",
    "\n",
    "In [11]: b.eval()\n",
    "Out[11]: array([ 0.,  0.,  0.,  0.,  0.,  2.,  0.], dtype=float32)\n",
    "\n",
    "In [12]: b.eval()\n",
    "Out[12]: array([  0.,   0.,   4.,   0.,  16.,   0.,   0.], dtype=float32)\n",
    "\n",
    "In [13]: b.eval()\n",
    "Out[13]: array([  0.,   0.,   4.,   0.,  16.,   2.,   4.], dtype=float32)\n",
    "\n",
    "In [14]: b.eval()\n",
    "Out[14]: array([  2.,   0.,   4.,   8.,  16.,   0.,   4.], dtype=float32)\n",
    "\n",
    "In [15]: b.eval()\n",
    "Out[15]: array([ 2.,  0.,  0.,  0.,  0.,  0.,  4.], dtype=float32)\n",
    "\n",
    "```\n",
    "\n",
    "> Since the keep_probability of 0.5 was used, array elements were dropped with that probability, and remaining elements were scaled up by 1/0.5 = 2"
   ]
  },
  {
   "cell_type": "markdown",
   "metadata": {},
   "source": [
    "1. We create a placeholder for the probability that a neuron's output is kept during dropout. This allows us to turn dropout on during training, and turn it off during testing. TensorFlow's tf.nn.dropout op automatically handles scaling neuron outputs in addition to masking them, so dropout just works without any additional scaling."
   ]
  },
  {
   "cell_type": "code",
   "execution_count": 46,
   "metadata": {
    "collapsed": false
   },
   "outputs": [],
   "source": [
    "batch_size = 128\n",
    "hidden_units = 1024 # Size of the hidden layer\n",
    "\n",
    "graph = tf.Graph()\n",
    "with graph.as_default() as g:\n",
    "  # Input data. For the training data, we use a placeholder that will be fed\n",
    "  # at run time with a training minibatch.\n",
    "  tf_train_dataset = tf.placeholder(tf.float32,\n",
    "                                    shape=(batch_size, image_size * image_size))\n",
    "  tf_train_labels = tf.placeholder(tf.float32, shape=(batch_size, num_labels))\n",
    "  tf_valid_dataset = tf.constant(valid_dataset)\n",
    "  tf_test_dataset = tf.constant(test_dataset)\n",
    "\n",
    "  # Hidden Layer\n",
    "  with g.name_scope(\"hidden\"):\n",
    "    weights1 = weight_variable([image_size * image_size, hidden_units])\n",
    "    biases1 = bias_variable([hidden_units])\n",
    "  \n",
    "  # Linear\n",
    "  with g.name_scope(\"softmax_linear\"):\n",
    "    weights2 = weight_variable([hidden_units, num_labels])\n",
    "    biases2 = bias_variable([num_labels])\n",
    "  \n",
    "  def forward_prop(inp):\n",
    "    return tf.matmul(\n",
    "        tf.nn.relu(tf.matmul(inp, weights1) + biases1), weights2) + biases2  \n",
    "\n",
    "  logits = forward_prop(tf_train_dataset)\n",
    "  \n",
    "  # Dropout\n",
    "  logits_drop = tf.nn.dropout(logits, 0.5)\n",
    "\n",
    "  loss = tf.reduce_mean(\n",
    "    tf.nn.softmax_cross_entropy_with_logits(logits_drop, tf_train_labels))\n",
    "\n",
    "  # Apply regularization\n",
    "  loss += 5e-4 * (tf.nn.l2_loss(weights1) + tf.nn.l2_loss(weights2))\n",
    "  \n",
    "  # Optimizer.\n",
    "  optimizer = tf.train.AdamOptimizer(1e-4).minimize(loss)\n",
    "\n",
    "  # Predictions for the training, validation, and test data.\n",
    "  train_prediction = tf.nn.softmax(logits_drop)\n",
    "  valid_prediction = tf.nn.softmax(forward_prop(tf_valid_dataset))\n",
    "  test_prediction = tf.nn.softmax(forward_prop(tf_test_dataset))"
   ]
  },
  {
   "cell_type": "code",
   "execution_count": 47,
   "metadata": {
    "collapsed": false
   },
   "outputs": [
    {
     "name": "stdout",
     "output_type": "stream",
     "text": [
      "Initialized\n",
      "Minibatch loss at step 0: 7.628120\n",
      "Minibatch accuracy: 9.4%\n",
      "Validation accuracy: 12.3%\n",
      "Minibatch loss at step 500: 2.951389\n",
      "Minibatch accuracy: 48.4%\n",
      "Validation accuracy: 80.5%\n",
      "Minibatch loss at step 1000: 2.886546\n",
      "Minibatch accuracy: 49.2%\n",
      "Validation accuracy: 82.5%\n",
      "Minibatch loss at step 1500: 2.699205\n",
      "Minibatch accuracy: 46.1%\n",
      "Validation accuracy: 83.7%\n",
      "Minibatch loss at step 2000: 2.519528\n",
      "Minibatch accuracy: 52.3%\n",
      "Validation accuracy: 84.7%\n",
      "Minibatch loss at step 2500: 2.584833\n",
      "Minibatch accuracy: 45.3%\n",
      "Validation accuracy: 84.9%\n",
      "Minibatch loss at step 3000: 2.586389\n",
      "Minibatch accuracy: 47.7%\n",
      "Validation accuracy: 85.3%\n",
      "Test accuracy: 91.9%\n"
     ]
    },
    {
     "data": {
      "image/png": "[encoded data removed]",
      "text/plain": [
       "<matplotlib.figure.Figure at 0x146caf9d0>"
      ]
     },
     "metadata": {},
     "output_type": "display_data"
    }
   ],
   "source": [
    "do_tf_train(batch_size, 3001)"
   ]
  },
  {
   "cell_type": "markdown",
   "metadata": {
    "colab_type": "text",
    "id": "ww3SCBUdlkRc"
   },
   "source": [
    "What happens to our extreme overfitting case?\n",
    "\n",
    "---"
   ]
  },
  {
   "cell_type": "code",
   "execution_count": 48,
   "metadata": {
    "collapsed": true
   },
   "outputs": [],
   "source": [
    "batch_size = 20\n",
    "hidden_units = 1024 # Size of the hidden layer\n",
    "\n",
    "graph = tf.Graph()\n",
    "with graph.as_default() as g:\n",
    "  # Input data. For the training data, we use a placeholder that will be fed\n",
    "  # at run time with a training minibatch.\n",
    "  tf_train_dataset = tf.placeholder(tf.float32,\n",
    "                                    shape=(batch_size, image_size * image_size))\n",
    "  tf_train_labels = tf.placeholder(tf.float32, shape=(batch_size, num_labels))\n",
    "  tf_valid_dataset = tf.constant(valid_dataset)\n",
    "  tf_test_dataset = tf.constant(test_dataset)\n",
    "\n",
    "  # Hidden Layer\n",
    "  with g.name_scope(\"hidden\"):\n",
    "    weights1 = weight_variable([image_size * image_size, hidden_units])\n",
    "    biases1 = bias_variable([hidden_units])\n",
    "  \n",
    "  # Linear\n",
    "  with g.name_scope(\"softmax_linear\"):\n",
    "    weights2 = weight_variable([hidden_units, num_labels])\n",
    "    biases2 = bias_variable([num_labels])\n",
    "  \n",
    "  def forward_prop(inp):\n",
    "    return tf.matmul(\n",
    "        tf.nn.relu(tf.matmul(inp, weights1) + biases1), weights2) + biases2  \n",
    "\n",
    "  logits = forward_prop(tf_train_dataset)\n",
    "  \n",
    "  # Dropout\n",
    "  logits_drop = tf.nn.dropout(logits, 0.5)\n",
    "\n",
    "  loss = tf.reduce_mean(\n",
    "    tf.nn.softmax_cross_entropy_with_logits(logits_drop, tf_train_labels))\n",
    "\n",
    "  # Apply regularization\n",
    "  loss += 5e-4 * (tf.nn.l2_loss(weights1) + tf.nn.l2_loss(weights2))\n",
    "  \n",
    "  # Optimizer.\n",
    "  optimizer = tf.train.AdamOptimizer(1e-4).minimize(loss)\n",
    "\n",
    "  # Predictions for the training, validation, and test data.\n",
    "  train_prediction = tf.nn.softmax(logits_drop)\n",
    "  valid_prediction = tf.nn.softmax(forward_prop(tf_valid_dataset))\n",
    "  test_prediction = tf.nn.softmax(forward_prop(tf_test_dataset))"
   ]
  },
  {
   "cell_type": "code",
   "execution_count": 49,
   "metadata": {
    "collapsed": false
   },
   "outputs": [
    {
     "name": "stdout",
     "output_type": "stream",
     "text": [
      "Initialized\n",
      "Minibatch loss at step 0: 7.809378\n",
      "Minibatch accuracy: 10.0%\n",
      "Validation accuracy: 4.6%\n",
      "Minibatch loss at step 500: 3.851542\n",
      "Minibatch accuracy: 30.0%\n",
      "Validation accuracy: 76.8%\n",
      "Minibatch loss at step 1000: 3.167903\n",
      "Minibatch accuracy: 30.0%\n",
      "Validation accuracy: 78.7%\n",
      "Minibatch loss at step 1500: 2.877496\n",
      "Minibatch accuracy: 40.0%\n",
      "Validation accuracy: 80.6%\n",
      "Minibatch loss at step 2000: 2.869808\n",
      "Minibatch accuracy: 40.0%\n",
      "Validation accuracy: 81.4%\n",
      "Minibatch loss at step 2500: 2.950448\n",
      "Minibatch accuracy: 50.0%\n",
      "Validation accuracy: 82.3%\n",
      "Minibatch loss at step 3000: 2.580415\n",
      "Minibatch accuracy: 55.0%\n",
      "Validation accuracy: 81.8%\n",
      "Test accuracy: 88.9%\n"
     ]
    },
    {
     "data": {
      "image/png": "[encoded data removed]",
      "text/plain": [
       "<matplotlib.figure.Figure at 0x14f43c610>"
      ]
     },
     "metadata": {},
     "output_type": "display_data"
    }
   ],
   "source": [
    "do_tf_train(batch_size, 3001)"
   ]
  },
  {
   "cell_type": "markdown",
   "metadata": {
    "colab_type": "text",
    "id": "-b1hTz3VWZjw"
   },
   "source": [
    "---\n",
    "Problem 4\n",
    "---------\n",
    "\n",
    "Try to get the best performance you can using a multi-layer model! The best reported test accuracy using a deep network is [97.1%](http://yaroslavvb.blogspot.com/2011/09/notmnist-dataset.html?showComment=1391023266211#c8758720086795711595).\n",
    "\n",
    "One avenue you can explore is to add multiple layers.\n",
    "\n",
    "Another one is to use learning rate decay:\n",
    "\n",
    "    global_step = tf.Variable(0)  # count the number of steps taken.\n",
    "    learning_rate = tf.train.exponential_decay(0.5, global_step, ...)\n",
    "    optimizer = tf.train.GradientDescentOptimizer(learning_rate).minimize(loss, global_step=global_step)\n",
    " \n",
    " ---\n"
   ]
  },
  {
   "cell_type": "markdown",
   "metadata": {},
   "source": [
    "### 4 Layer network"
   ]
  },
  {
   "cell_type": "code",
   "execution_count": 52,
   "metadata": {
    "collapsed": false
   },
   "outputs": [],
   "source": [
    "batch_size = 128\n",
    "hidden_units_1 = 1024 # Size of the hidden layer\n",
    "hidden_units_2 = 300\n",
    "hidden_units_3 = 50\n",
    "\n",
    "graph = tf.Graph()\n",
    "with graph.as_default() as g:\n",
    "  # Input data. For the training data, we use a placeholder that will be fed\n",
    "  # at run time with a training minibatch.\n",
    "  tf_train_dataset = tf.placeholder(tf.float32,\n",
    "                                    shape=(batch_size, image_size * image_size))\n",
    "  tf_train_labels = tf.placeholder(tf.float32, shape=(batch_size, num_labels))\n",
    "  tf_valid_dataset = tf.constant(valid_dataset)\n",
    "  tf_test_dataset = tf.constant(test_dataset)\n",
    "\n",
    "  # Hidden Layer 1\n",
    "  with g.name_scope(\"hidden1\"):\n",
    "    weights1 = weight_variable([image_size * image_size, hidden_units_1])\n",
    "    biases1 = bias_variable([hidden_units_1])\n",
    "\n",
    "  with g.name_scope(\"hidden2\"):\n",
    "    weights2 = weight_variable([hidden_units_1, hidden_units_2])\n",
    "    biases2 = bias_variable([hidden_units_2])\n",
    "    \n",
    "  with g.name_scope(\"hidden3\"):\n",
    "    weights3 = weight_variable([hidden_units_2, hidden_units_3])\n",
    "    biases3 = bias_variable([hidden_units_3])\n",
    "  \n",
    "  # Linear\n",
    "  with g.name_scope(\"softmax_linear\"):\n",
    "    weights4 = weight_variable([hidden_units_3, num_labels])\n",
    "    biases4 = bias_variable([num_labels])\n",
    "  \n",
    "  def forward_prop(inp):\n",
    "    initial = tf.matmul(inp, weights1 ) + biases1\n",
    "    initial = tf.matmul(tf.nn.relu(initial), weights2) + biases2\n",
    "    initial = tf.matmul(tf.nn.relu(initial), weights3) + biases3\n",
    "    initial = tf.matmul(tf.nn.relu(initial), weights4) + biases4\n",
    "    return initial  \n",
    "\n",
    "  logits = forward_prop(tf_train_dataset)\n",
    "  \n",
    "  # Dropout\n",
    "  logits_drop = tf.nn.dropout(logits, 0.5)\n",
    "\n",
    "  loss = tf.reduce_mean(\n",
    "    tf.nn.softmax_cross_entropy_with_logits(logits_drop, tf_train_labels))\n",
    "\n",
    "  # Apply regularization\n",
    "  loss += 5e-4 * (tf.nn.l2_loss(weights1) + tf.nn.l2_loss(weights2))\n",
    "  \n",
    "  # Optimizer.\n",
    "  optimizer = tf.train.AdamOptimizer(1e-4).minimize(loss)\n",
    "\n",
    "  # Predictions for the training, validation, and test data.\n",
    "  train_prediction = tf.nn.softmax(logits_drop)\n",
    "  valid_prediction = tf.nn.softmax(forward_prop(tf_valid_dataset))\n",
    "  test_prediction = tf.nn.softmax(forward_prop(tf_test_dataset))"
   ]
  },
  {
   "cell_type": "code",
   "execution_count": 51,
   "metadata": {
    "collapsed": false
   },
   "outputs": [
    {
     "name": "stdout",
     "output_type": "stream",
     "text": [
      "Initialized\n",
      "Minibatch loss at step 0: 5.472296\n",
      "Minibatch accuracy: 9.4%\n",
      "Validation accuracy: 7.5%\n",
      "Minibatch loss at step 500: 3.120972\n",
      "Minibatch accuracy: 53.1%\n",
      "Validation accuracy: 82.6%\n",
      "Minibatch loss at step 1000: 3.212160\n",
      "Minibatch accuracy: 45.3%\n",
      "Validation accuracy: 84.0%\n",
      "Minibatch loss at step 1500: 2.951932\n",
      "Minibatch accuracy: 52.3%\n",
      "Validation accuracy: 85.1%\n",
      "Minibatch loss at step 2000: 2.714409\n",
      "Minibatch accuracy: 54.7%\n",
      "Validation accuracy: 85.7%\n",
      "Minibatch loss at step 2500: 2.789465\n",
      "Minibatch accuracy: 52.3%\n",
      "Validation accuracy: 86.3%\n",
      "Minibatch loss at step 3000: 2.710142\n",
      "Minibatch accuracy: 49.2%\n",
      "Validation accuracy: 86.5%\n",
      "Test accuracy: 93.0%\n"
     ]
    },
    {
     "data": {
      "image/png": "[encoded data removed]",
      "text/plain": [
       "<matplotlib.figure.Figure at 0x146ef8c90>"
      ]
     },
     "metadata": {},
     "output_type": "display_data"
    }
   ],
   "source": [
    "do_tf_train(batch_size, num_steps)"
   ]
  },
  {
   "cell_type": "markdown",
   "metadata": {},
   "source": [
    "### 4 Layer network + Learning rate decay"
   ]
  },
  {
   "cell_type": "code",
   "execution_count": 61,
   "metadata": {
    "collapsed": false
   },
   "outputs": [],
   "source": [
    "batch_size = 128\n",
    "hidden_units_1 = 1024 # Size of the hidden layer\n",
    "hidden_units_2 = 300\n",
    "hidden_units_3 = 50\n",
    "\n",
    "graph = tf.Graph()\n",
    "with graph.as_default() as g:\n",
    "  # Input data. For the training data, we use a placeholder that will be fed\n",
    "  # at run time with a training minibatch.\n",
    "  tf_train_dataset = tf.placeholder(tf.float32,\n",
    "                                    shape=(batch_size, image_size * image_size))\n",
    "  tf_train_labels = tf.placeholder(tf.float32, shape=(batch_size, num_labels))\n",
    "  tf_valid_dataset = tf.constant(valid_dataset)\n",
    "  tf_test_dataset = tf.constant(test_dataset)\n",
    "\n",
    "  # Hidden Layer 1\n",
    "  with g.name_scope(\"hidden1\"):\n",
    "    weights1 = weight_variable([image_size * image_size, hidden_units_1])\n",
    "    biases1 = bias_variable([hidden_units_1])\n",
    "\n",
    "  with g.name_scope(\"hidden2\"):\n",
    "    weights2 = weight_variable([hidden_units_1, hidden_units_2])\n",
    "    biases2 = bias_variable([hidden_units_2])\n",
    "    \n",
    "  with g.name_scope(\"hidden3\"):\n",
    "    weights3 = weight_variable([hidden_units_2, hidden_units_3])\n",
    "    biases3 = bias_variable([hidden_units_3])\n",
    "  \n",
    "  # Linear\n",
    "  with g.name_scope(\"softmax_linear\"):\n",
    "    weights4 = weight_variable([hidden_units_3, num_labels])\n",
    "    biases4 = bias_variable([num_labels])\n",
    "  \n",
    "  def forward_prop(inp):\n",
    "    initial = tf.matmul(inp, weights1 ) + biases1\n",
    "    initial = tf.matmul(tf.nn.relu(initial), weights2) + biases2\n",
    "    initial = tf.matmul(tf.nn.relu(initial), weights3) + biases3\n",
    "    initial = tf.matmul(tf.nn.relu(initial), weights4) + biases4\n",
    "    return initial  \n",
    "\n",
    "  logits = forward_prop(tf_train_dataset)\n",
    "  \n",
    "  # Dropout\n",
    "  logits_drop = tf.nn.dropout(logits, 0.5)\n",
    "\n",
    "  loss = tf.reduce_mean(\n",
    "    tf.nn.softmax_cross_entropy_with_logits(logits_drop, tf_train_labels))\n",
    "\n",
    "  # Apply regularization\n",
    "  loss += 5e-4 * (tf.nn.l2_loss(weights1) + tf.nn.l2_loss(weights2))\n",
    "  \n",
    "  # Learning rate decay\n",
    "  global_step = tf.Variable(0, name=\"global_step\", trainable=False)\n",
    "  learning_rate = tf.train.exponential_decay(0.1,\n",
    "                                             global_step,\n",
    "                                             100000,\n",
    "                                             0.96,\n",
    "                                             staircase=True)\n",
    "  optimizer = tf.train.GradientDescentOptimizer(learning_rate).minimize(loss, global_step=global_step)\n",
    "\n",
    "  # Predictions for the training, validation, and test data.\n",
    "  train_prediction = tf.nn.softmax(logits_drop)\n",
    "  valid_prediction = tf.nn.softmax(forward_prop(tf_valid_dataset))\n",
    "  test_prediction = tf.nn.softmax(forward_prop(tf_test_dataset))"
   ]
  },
  {
   "cell_type": "code",
   "execution_count": 62,
   "metadata": {
    "collapsed": false
   },
   "outputs": [
    {
     "name": "stdout",
     "output_type": "stream",
     "text": [
      "Initialized\n",
      "Minibatch loss at step 0: 6.378026\n",
      "Minibatch accuracy: 12.5%\n",
      "Validation accuracy: 11.4%\n",
      "Minibatch loss at step 500: 3.187098\n",
      "Minibatch accuracy: 56.2%\n",
      "Validation accuracy: 83.3%\n",
      "Minibatch loss at step 1000: 3.128890\n",
      "Minibatch accuracy: 50.8%\n",
      "Validation accuracy: 84.3%\n",
      "Minibatch loss at step 1500: 2.983993\n",
      "Minibatch accuracy: 55.5%\n",
      "Validation accuracy: 85.0%\n",
      "Minibatch loss at step 2000: 2.924783\n",
      "Minibatch accuracy: 44.5%\n",
      "Validation accuracy: 85.5%\n",
      "Minibatch loss at step 2500: 2.919226\n",
      "Minibatch accuracy: 45.3%\n",
      "Validation accuracy: 86.3%\n",
      "Minibatch loss at step 3000: 2.902477\n",
      "Minibatch accuracy: 41.4%\n",
      "Validation accuracy: 86.2%\n",
      "Test accuracy: 93.0%\n"
     ]
    },
    {
     "data": {
      "image/png": "[encoded data removed]",
      "text/plain": [
       "<matplotlib.figure.Figure at 0x146a0bed0>"
      ]
     },
     "metadata": {},
     "output_type": "display_data"
    }
   ],
   "source": [
    "xx = []\n",
    "yy = []\n",
    "with tf.Session(graph=graph) as session:\n",
    "  tf.initialize_all_variables().run()\n",
    "  print(\"Initialized\")\n",
    "  for step in range(num_steps):\n",
    "    # Pick an offset within the training data, which has been randomized.\n",
    "    # Note: we could use better randomization across epochs.\n",
    "    offset = (step * batch_size) % (train_labels.shape[0] - batch_size)\n",
    "\n",
    "    # Generate a minibatch.\n",
    "    batch_data = train_dataset[offset:(offset + batch_size), :]\n",
    "    batch_labels = train_labels[offset:(offset + batch_size), :]\n",
    "\n",
    "    # Prepare a dictionary telling the session where to feed the minibatch.\n",
    "    # The key of the dictionary is the placeholder node of the graph to be fed,\n",
    "    # and the value is the numpy array to feed to it.\n",
    "    feed_dict = {tf_train_dataset : batch_data,\n",
    "                 tf_train_labels : batch_labels}\n",
    "\n",
    "    _, l, predictions = session.run(\n",
    "      [optimizer, loss, train_prediction], feed_dict=feed_dict)\n",
    "\n",
    "    if (step % 20 == 0):\n",
    "        xx.append(step)\n",
    "        yy.append(l)\n",
    "\n",
    "    if (step % 500 == 0):\n",
    "      print(\"Minibatch loss at step %d: %f\" % (step, l))\n",
    "      print(\"Minibatch accuracy: %.1f%%\" % accuracy(predictions, batch_labels))\n",
    "      print(\"Validation accuracy: %.1f%%\" % accuracy(valid_prediction.eval(), valid_labels))\n",
    "  print(\"Test accuracy: %.1f%%\" % accuracy(test_prediction.eval(), test_labels))\n",
    "  plot_loss(xx, yy)"
   ]
  }
 ],
 "metadata": {
  "colab": {
   "default_view": {},
   "name": "3_regularization.ipynb",
   "provenance": [],
   "version": "0.3.2",
   "views": {}
  },
  "kernelspec": {
   "display_name": "Python 2",
   "language": "python",
   "name": "python2"
  },
  "language_info": {
   "codemirror_mode": {
    "name": "ipython",
    "version": 2
   },
   "file_extension": ".py",
   "mimetype": "text/x-python",
   "name": "python",
   "nbconvert_exporter": "python",
   "pygments_lexer": "ipython2",
   "version": "2.7.11"
  }
 },
 "nbformat": 4,
 "nbformat_minor": 0
}
